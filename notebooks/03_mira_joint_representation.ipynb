{
 "cells": [
  {
   "cell_type": "markdown",
   "id": "e04283e9",
   "metadata": {},
   "source": [
    "# MIRA Joint Representation"
   ]
  },
  {
   "cell_type": "markdown",
   "id": "8c3ea385",
   "metadata": {},
   "source": [
    "We will use the pre-trained topic models to create a joint embedding representation of the accessibility and expression across cells. This can be used to calculate a joint-KNN graph to capture cellular heterogeneity by ordering cells not only be expression or accessibility, but by both. This can be used to cluster cells, pseudotime trajectory inference, and UMAP visualization."
   ]
  },
  {
   "cell_type": "code",
   "execution_count": null,
   "id": "f6279adc",
   "metadata": {},
   "outputs": [],
   "source": [
    "!hostnamectl"
   ]
  },
  {
   "cell_type": "code",
   "execution_count": null,
   "id": "dd28db94",
   "metadata": {},
   "outputs": [],
   "source": [
    "import mira\n",
    "import anndata\n",
    "import scanpy as sc\n",
    "import numpy as np\n",
    "import seaborn as sns\n",
    "\n",
    "import matplotlib.pyplot as plt\n",
    "import matplotlib\n",
    "matplotlib.rc('font',size=12)\n",
    "\n",
    "import logging\n",
    "mira.logging.getLogger().setLevel(logging.INFO)\n",
    "import warnings\n",
    "warnings.simplefilter(\"ignore\")\n",
    "umap_kwargs = dict(\n",
    "    add_outline=True, outline_width=(0.1,0), outline_color=('grey', 'white'),\n",
    "    legend_fontweight=350, frameon = False, legend_fontsize=12\n",
    ")\n",
    "print(mira.__version__)\n",
    "mira.utils.pretty_sderr()"
   ]
  },
  {
   "cell_type": "markdown",
   "id": "dde56d30",
   "metadata": {},
   "source": [
    "First, we need to load the datasets and the topic models"
   ]
  },
  {
   "cell_type": "code",
   "execution_count": null,
   "id": "f18117c6",
   "metadata": {},
   "outputs": [],
   "source": [
    "rna_adata = anndata.read_h5ad(\"/gpfs/Home/esm5360/MIRA/mira-datasets/ds011_rna_data.h5ad\")\n",
    "atac_adata = anndata.read_h5ad(\"/gpfs/Home/esm5360/MIRA/mira-datasets/ds011_atac_data.h5ad\")\n",
    "\n",
    "rna_model = mira.topics.load_model(\"/gpfs/Home/esm5360/MIRA/mira-datasets/ds011_rna_model.pth\")\n",
    "atac_model = mira.topics.load_model(\"/gpfs/Home/esm5360/MIRA/mira-datasets/ds011_atac_model.pth\")"
   ]
  },
  {
   "cell_type": "markdown",
   "id": "6c4cf138",
   "metadata": {},
   "source": [
    "## Predicting Topics\n",
    "\n",
    "Using the topic models, we can predict topic compositions for our cells. The topics are a distribution over expression of genes, so cell-topic compositions represent the degree to which different modules of gene expression are active in the cell. \n",
    "\n",
    "The `predict` method takes the requisite AnnData objects as input and saves topic compositions for cells and features."
   ]
  },
  {
   "cell_type": "code",
   "execution_count": null,
   "id": "b074e828",
   "metadata": {},
   "outputs": [],
   "source": [
    "atac_model.predict(atac_adata)\n",
    "rna_model.predict(rna_adata)"
   ]
  },
  {
   "cell_type": "markdown",
   "id": "3f5bbd42",
   "metadata": {},
   "source": [
    "Next, we wish to use those cell-topic compositions as features to find cells which are in similar states. Compositions are in the simplex space, which can distort inter-cell distances. Therefore, we convert the simplical topic compositions to *Real* space using the *Isometic log ratio* (ILR) transformation.\n",
    "\n",
    "The parameter `box_cox` conrtols the box-cox power transformation applied to the simplical data. Passing zero or \"log\" gives the standard ILR transformation. Passing a float less than 1 gives a box-cox generalization of the ILR. Larger values generally produce more complex structures in the latent space. No value works perfectly for all datasets, so please see the section below for more details."
   ]
  },
  {
   "cell_type": "code",
   "execution_count": null,
   "id": "3a844fb0",
   "metadata": {},
   "outputs": [],
   "source": [
    "rna_model.get_umap_features(rna_adata, box_cox=0.25)\n",
    "atac_model.get_umap_features(atac_adata, box_cox=0.25)"
   ]
  },
  {
   "cell_type": "markdown",
   "id": "90327ff7",
   "metadata": {},
   "source": [
    "Let's visualize how the topics describe cell populations and variance in the dataset. We’ll start by creating separate visualizations for expression and accessibility. First, we need use the embedding space to create a K-nearsest neighbors graph using sc.pp.neighbors. To make sure the correct embeddings are used, make sure to specify `use_rep = 'X_joint_umap_features'`. Also, specify `metric = 'manhattan'` to leverage the orthonormality of ILR-transformed space to find cells in similar states.\n",
    "\n",
    "One application of the joint-KNN graph is to calculate a 2-D UMAP view of the data. When calculating UMAPs, setting `min_dist = 0.1` highlights lineage structures and reduces the “fuzziness” of the UMAP view.\n",
    "\n",
    "We do this for both modalities below:"
   ]
  },
  {
   "cell_type": "code",
   "execution_count": null,
   "id": "bba7b613",
   "metadata": {},
   "outputs": [],
   "source": [
    "# Run K-NN and UMAP for RNA data\n",
    "sc.pp.neighbors(rna_adata, use_rep = 'X_umap_features', metric = 'manhattan', n_neighbors = 21)\n",
    "sc.tl.umap(rna_adata, min_dist = 0.1)\n",
    "rna_adata.obsm['X_umap'] = rna_adata.obsm['X_umap']*np.array([-1,-1]) # flip for consistency\n",
    "\n",
    "# Run K-NN and UMAP for ATAC data\n",
    "sc.pp.neighbors(atac_adata, use_rep = 'X_umap_features', metric = 'manhattan', n_neighbors = 21)\n",
    "sc.tl.umap(atac_adata, min_dist = 0.1)\n",
    "atac_adata.obsm['X_umap'] = atac_adata.obsm['X_umap']*np.array([1,-1]) # flip for consistency"
   ]
  },
  {
   "cell_type": "code",
   "execution_count": null,
   "id": "b1f4c7d1",
   "metadata": {},
   "outputs": [],
   "source": [
    "fig, ax = plt.subplots(1, 2, figsize=(10, 4))\n",
    "umap_kwargs = dict(color='topic_0', na_color=\"lightgrey\")\n",
    "sc.pl.umap(\n",
    "    rna_adata,\n",
    "    ax=ax[0],\n",
    "    size=20,\n",
    "    title=\"Expression Only\",\n",
    "    show=False,\n",
    "    **umap_kwargs\n",
    ")\n",
    "\n",
    "sc.pl.umap(\n",
    "    atac_adata,\n",
    "    ax=ax[1],\n",
    "    size=20,\n",
    "    title=\"Accessibility Only\",\n",
    "    show=False,\n",
    "    **umap_kwargs\n",
    ")\n",
    "\n",
    "plt.tight_layout()\n",
    "plt.show()\n"
   ]
  },
  {
   "cell_type": "markdown",
   "id": "b4a5db19",
   "metadata": {},
   "source": [
    "## Joining Modalities\n",
    "\n",
    "Now, let’s combine the modailities. We can construct the joint embedding space using `mira.utils.make_joint_representation`. This function takes the two modalities’ AnnDatas as input, then finds common cells, joins the separate transformed topic spaces to make the joint embedding for each cell, and returns those AnnDatas."
   ]
  },
  {
   "cell_type": "code",
   "execution_count": null,
   "id": "cf76807e",
   "metadata": {},
   "outputs": [],
   "source": [
    "rna_adata, atac_adata = mira.utils.make_joint_representation(rna_adata, atac_adata)"
   ]
  },
  {
   "cell_type": "markdown",
   "id": "7608235c",
   "metadata": {},
   "source": [
    "Finally, we can use the joint embedding space to create the joint-KNN graph using:"
   ]
  },
  {
   "cell_type": "code",
   "execution_count": null,
   "id": "6e5d53b5",
   "metadata": {},
   "outputs": [],
   "source": [
    "sc.pp.neighbors(rna_adata, use_rep = 'X_joint_umap_features', metric = 'manhattan',\n",
    "               n_neighbors = 20)"
   ]
  },
  {
   "cell_type": "markdown",
   "id": "bee1fcca",
   "metadata": {},
   "source": [
    "And visualize the joint-KNN graph using UMAP. The UMAP view below, as analyzed thoroughly in the MIRA paper reveals interesting aspects of skin differentiation biology."
   ]
  },
  {
   "cell_type": "code",
   "execution_count": null,
   "id": "c017414c",
   "metadata": {},
   "outputs": [],
   "source": [
    "sc.tl.umap(rna_adata, min_dist = 0.1)"
   ]
  },
  {
   "cell_type": "code",
   "execution_count": null,
   "id": "7f3792b9",
   "metadata": {},
   "outputs": [],
   "source": [
    "fig, ax = plt.subplots(1,1,figsize=(8,5))\n",
    "sc.pl.umap(rna_adata, legend_loc = 'on data', ax = ax, size = 20,\n",
    "          **umap_kwargs, title = '')"
   ]
  },
  {
   "cell_type": "markdown",
   "id": "72a7d556",
   "metadata": {},
   "source": [
    "After joining the AnnDatas, it is useful to transfer some metadata from the ATAC dataframe to the RNA dataframe so that we have one main object for plotting and running other functions:"
   ]
  },
  {
   "cell_type": "code",
   "execution_count": null,
   "id": "a77b324c",
   "metadata": {},
   "outputs": [],
   "source": [
    "rna_adata.obs = rna_adata.obs.join(\n",
    "    atac_adata.obs.add_prefix('ATAC_') # add a prefix so we know which AnnData the column came from\n",
    ")\n",
    "\n",
    "atac_adata.obsm['X_umap'] = rna_adata.obsm['X_umap']"
   ]
  },
  {
   "cell_type": "markdown",
   "id": "5899adcb",
   "metadata": {},
   "source": [
    "## Analyzing Joint Topic Compositions\n",
    "\n",
    "One question we can answer with topics is finding to what degree changes in one mode’s topics correspond or correlate with topics in the other mode. For this we can use the mutual information between RNA and ATAC topic compositions. Mutual information measures how much knowing one variable informs you about the distribution of another variable, or in this case, does knowing about the composition of one mode tell you about the other?\n",
    "\n",
    "We can ask this question on a cell-by-cell basis with the `mira.tl.get_cell_pointwise_mutual_information` function, which calculates the pointwise mutual information between topics for in that cell:"
   ]
  },
  {
   "cell_type": "code",
   "execution_count": null,
   "id": "cfdfdf15",
   "metadata": {},
   "outputs": [],
   "source": [
    "mira.tl.get_cell_pointwise_mutual_information(rna_adata, atac_adata)"
   ]
  },
  {
   "cell_type": "code",
   "execution_count": null,
   "id": "616c0f31",
   "metadata": {},
   "outputs": [],
   "source": [
    "fig, ax = plt.subplots(1,1,figsize=(8,5))\n",
    "sc.pl.umap(rna_adata, color = 'pointwise_mutual_information', ax = ax, vmin = 0,\n",
    "          color_map='magma', frameon=False, add_outline=True, vmax = 3, size = 25)"
   ]
  },
  {
   "cell_type": "markdown",
   "id": "6dc33521",
   "metadata": {},
   "source": [
    "Usually, more stable cell states, such as terminal cell states, will have greater concordance between topic compositions.\n",
    "\n",
    "To summarize mutual information across all cells, use mira.tl.summarize_mutual_information. Typically, this will give a value between 0 -low concordance- and 0.5 -high concordance."
   ]
  },
  {
   "cell_type": "code",
   "execution_count": null,
   "id": "9e2377d7",
   "metadata": {},
   "outputs": [],
   "source": [
    "mira.tl.summarize_mutual_information(rna_adata, atac_adata)"
   ]
  },
  {
   "cell_type": "markdown",
   "id": "cf9216bb",
   "metadata": {},
   "source": [
    "Finally, one can see which topics correlate across modes. Use:"
   ]
  },
  {
   "cell_type": "code",
   "execution_count": null,
   "id": "26eac1a9",
   "metadata": {},
   "outputs": [],
   "source": [
    "cross_correlation = mira.tl.get_topic_cross_correlation(rna_adata, atac_adata)"
   ]
  },
  {
   "cell_type": "code",
   "execution_count": null,
   "id": "550aaa87",
   "metadata": {},
   "outputs": [],
   "source": [
    "sns.clustermap(cross_correlation, vmin = 0,\n",
    "               cmap = 'magma', method='ward',\n",
    "               dendrogram_ratio=0.05, cbar_pos=None, figsize=(7,7))"
   ]
  },
  {
   "cell_type": "code",
   "execution_count": null,
   "id": "b193ec42",
   "metadata": {},
   "outputs": [],
   "source": [
    "mira.adata_interface.core.logger.setLevel(logging.WARN)\n",
    "mira.adata_interface.topic_model.logger.setLevel(logging.WARN)\n",
    "mira.adata_interface.utils.logger.setLevel(logging.WARN)"
   ]
  },
  {
   "cell_type": "code",
   "execution_count": null,
   "id": "9d0acbc0",
   "metadata": {},
   "outputs": [],
   "source": [
    "def boxcox_test(ax, box_cox, rna, atac):\n",
    "\n",
    "    atac_model.get_umap_features(atac, box_cox=box_cox)\n",
    "    rna_model.get_umap_features(rna, box_cox=box_cox)\n",
    "\n",
    "    rna, atac = mira.utils.make_joint_representation(rna, atac)\n",
    "\n",
    "    sc.pp.neighbors(rna, use_rep = 'X_joint_umap_features', metric = 'manhattan', n_neighbors = 10)\n",
    "    sc.tl.umap(rna, min_dist = 0.2, negative_sample_rate=2)\n",
    "    sc.pl.umap(rna, ax = ax, show = False, title = 'Box-cox: ' + str(box_cox), legend_loc='on data',\n",
    "              add_outline=True, outline_width=(0.1,0), outline_color=('grey', 'white'),\n",
    "              legend_fontweight=150, frameon = False, legend_fontsize=12, **umap_kwargs)\n",
    "\n",
    "fig, ax = plt.subplots(1,4, figsize=(20,4))\n",
    "for ax_i, box_cox in zip(ax, ['log',0.25,0.5,0.99]):\n",
    "    boxcox_test(ax_i, box_cox, rna_adata, atac_adata)\n",
    "\n",
    "plt.show()"
   ]
  },
  {
   "cell_type": "markdown",
   "id": "bdf8d335",
   "metadata": {},
   "source": [
    "We see that as the box_cox parameter increases, some finer details in the manifold emerge, such as multiple paths between the Matrix and IRS cells. For the hair follicle, “log” and 0.99 hide meaningful structure in the data, so it is clear that the optimal box_cox transformation for this dataset is somewhere in the realm of 0.25 to 0.5. Notably, the underlying topic compositions have not changed, just our definition of the joint-KNN graph and our subsequent view of the it in UMAP space.\n",
    "\n",
    "Try multiple values for box_cox to find a view that sufficiently demonstrates the connectivity structure of the data.\n",
    "\n",
    "Overall, in constructing the joint representation and ensuing visual representation of the data (atleast with UMAP), there are several hyperparameters to consider:"
   ]
  },
  {
   "cell_type": "markdown",
   "id": "331e6d27",
   "metadata": {},
   "source": [
    "\n",
    "| Parameter | Source | What it does | Good value |\n",
    "|:---------:|:------:|:------------:|:----------:|\n",
    "|  box_cox  |  MIRA  |Controls box-cox power transformation of topic compositions. A value of zero/“log” performs ILR trasformation. Larger values give a box-cox generalization of ILR and generally find more complex structure in the data. |“log”, 0.25, 0.5, 0.75|\n",
    "|n_neighbors|  MIRA  | Number of neighbors in joint-KNN graph. Greater values increase “clumpiness” of joint KNN and remove finer structures and neighborhoods | 15 |\n",
    "|  min_dist |  UMAP  | How close together can cells of similar state be placed in 2-D space. Lower values decrease “fuzziness” of UMAP. | 0.1 |\n",
    "| negative_sample_rate | UMAP | Repulsive force of UMAP algorithm. Decreasing this parameter makes UMAP view more similar to force-directed layouts, where attractive forces are prioritized. | 1 - 5 |\n",
    "\n",
    "With the joint representation made, we can investigate regulatory axes captued by the topics. Please view the next tutorial to see MIRA’s topic analyis facilities, including motif calling and regulator enrichment."
   ]
  },
  {
   "cell_type": "code",
   "execution_count": null,
   "id": "48935684",
   "metadata": {},
   "outputs": [],
   "source": [
    "atac_adata.write_h5ad(\"/gpfs/Home/esm5360/MIRA/mira-datasets/ds011_atac_data_joint_representation.h5ad\")\n",
    "rna_adata.write_h5ad(\"/gpfs/Home/esm5360/MIRA/mira-datasets/ds011_rna_data_joint_representation.h5ad\")"
   ]
  }
 ],
 "metadata": {
  "kernelspec": {
   "display_name": "Python (mira-env)",
   "language": "python",
   "name": "mira-env"
  }
 },
 "nbformat": 4,
 "nbformat_minor": 5
}
