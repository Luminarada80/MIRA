{
 "cells": [
  {
   "cell_type": "markdown",
   "id": "47addf35",
   "metadata": {},
   "source": [
    "# MIRA Regulatory Potential Modeling"
   ]
  },
  {
   "cell_type": "code",
   "execution_count": null,
   "id": "0de3a190",
   "metadata": {},
   "outputs": [],
   "source": [
    "!hostnamectl"
   ]
  },
  {
   "cell_type": "code",
   "execution_count": null,
   "id": "8aa9a4f5",
   "metadata": {},
   "outputs": [],
   "source": [
    "import mira\n",
    "import scanpy as sc\n",
    "import anndata\n",
    "import warnings\n",
    "warnings.simplefilter(\"ignore\")\n",
    "import pandas as pd\n",
    "import matplotlib.pyplot as plt\n",
    "import matplotlib\n",
    "matplotlib.rc(\"font\", size = 12)"
   ]
  },
  {
   "cell_type": "code",
   "execution_count": null,
   "id": "2b54e235",
   "metadata": {},
   "outputs": [],
   "source": [
    "rna_adata = anndata.read_h5ad(\"/gpfs/Home/esm5360/MIRA/mira-datasets/ds011_rna_data_topic_analysis.h5ad\")\n",
    "atac_adata = anndata.read_h5ad(\"/gpfs/Home/esm5360/MIRA/mira-datasets/ds011_atac_data_topic_analysis.h5ad\")\n",
    "\n",
    "ds011_atac_model = mira.topics.load_model(\"/gpfs/Home/esm5360/MIRA/mira-datasets/ds011_atac_model.pth\")\n",
    "ds011_rna_model = mira.topics.load_model(\"/gpfs/Home/esm5360/MIRA/mira-datasets/ds011_rna_model.pth\")"
   ]
  },
  {
   "cell_type": "markdown",
   "id": "390cd6cf",
   "metadata": {},
   "source": [
    "## TSS Annotations\n",
    "\n",
    "We must annotate the genes in the dataset with TSS locations. MIRA provides hg38 and mm10 chromosome size and TSS data, but you can also use your own if you want. The format is a bit different for the TSS data than the one that I have been using"
   ]
  },
  {
   "cell_type": "code",
   "execution_count": null,
   "id": "cb4be5f5",
   "metadata": {},
   "outputs": [],
   "source": [
    "mira.datasets.mm10_chrom_sizes()\n",
    "mira.datasets.mm10_tss_data()"
   ]
  },
  {
   "cell_type": "markdown",
   "id": "fca227a3",
   "metadata": {},
   "source": [
    "We need to add `peak_id`, `chr`, `start`, and `end` columns containing peak location information to `atac_adata.var`"
   ]
  },
  {
   "cell_type": "code",
   "execution_count": null,
   "id": "aff7af46",
   "metadata": {},
   "outputs": [],
   "source": [
    "peak_locations = atac_adata.var.index\n",
    "\n",
    "if not any([\"chr\", \"start\", \"end\"]) in peak_locations:\n",
    "    peak_data = {\n",
    "        \"peak_id\": [],\n",
    "        \"chr\": [],\n",
    "        \"start\": [],\n",
    "        \"end\": []\n",
    "    }\n",
    "    for i, peak in enumerate(peak_locations):\n",
    "        peak_id = i\n",
    "        chr_num = peak.split(\":\")[0]\n",
    "        peak_start = int(peak.split(\":\")[1].split(\"-\")[0])\n",
    "        peak_end = int(peak.split(\":\")[1].split(\"-\")[1])\n",
    "        \n",
    "        peak_data[\"peak_id\"].append(peak_id)\n",
    "        peak_data[\"chr\"].append(chr_num)\n",
    "        peak_data[\"start\"].append(peak_start)\n",
    "        peak_data[\"end\"].append(peak_end)\n",
    "        \n",
    "    peak_df = pd.DataFrame(peak_data, index=peak_locations)\n",
    "    atac_adata.var = pd.concat([atac_adata.var, peak_df], axis=1)"
   ]
  },
  {
   "cell_type": "code",
   "execution_count": null,
   "id": "9e932a18",
   "metadata": {},
   "outputs": [],
   "source": [
    "atac_adata"
   ]
  },
  {
   "cell_type": "code",
   "execution_count": null,
   "id": "0ba28210",
   "metadata": {},
   "outputs": [],
   "source": [
    "tss_data_file = 'mira-datasets/mm10_tss_data.bed12'\n",
    "tss_data = pd.read_csv('mira-datasets/mm10_tss_data.bed12', sep=\"\\t\")\n",
    "tss_data[\"#geneSymbol\"] = tss_data[\"#geneSymbol\"].str.capitalize()\n",
    "tss_data.to_csv('mira-datasets/mm10_tss_data.bed12', sep=\"\\t\", header=True, index=False)\n",
    "tss_data"
   ]
  },
  {
   "cell_type": "code",
   "execution_count": null,
   "id": "74de67f5",
   "metadata": {},
   "outputs": [],
   "source": [
    "atac_adata.var"
   ]
  },
  {
   "cell_type": "code",
   "execution_count": null,
   "id": "98bfee5f",
   "metadata": {},
   "outputs": [],
   "source": [
    "atac_adata.var[\"chr\"] = atac_adata.var[\"chr\"].astype(str)"
   ]
  },
  {
   "cell_type": "code",
   "execution_count": null,
   "id": "b9e93c27",
   "metadata": {},
   "outputs": [],
   "source": [
    "mira.tl.get_distance_to_TSS(atac_adata,\n",
    "                            tss_data='mira-datasets/mm10_tss_data.bed12',\n",
    "                            genome_file='mira-datasets/mm10.chrom.sizes')"
   ]
  },
  {
   "cell_type": "markdown",
   "id": "89cb2cbd",
   "metadata": {},
   "source": [
    "## RP model training\n",
    "\n",
    "With TSS annotations added, we can train RP models. Most RP-model related funcitons take the `expr_adata` and `atac_adata` keyword arguments, so it's easiest to put `rna_adata` and `atac_adata` into a dictionary for repeated use:"
   ]
  },
  {
   "cell_type": "code",
   "execution_count": null,
   "id": "99db1cb9",
   "metadata": {},
   "outputs": [],
   "source": [
    "rp_args = dict(expr_adata = rna_adata, atac_adata= atac_adata)"
   ]
  },
  {
   "cell_type": "markdown",
   "id": "92e6c575",
   "metadata": {},
   "source": [
    "Next, we instantiate an RP Model. MIRA refers to the RP model variant that uses local chromatin to predict gene expression as a *LITE* model - or **L**ocal chromatin accessibility-**I**nfluenced **T**ranscriptional **E**xpression model.\n",
    "\n",
    "The `mira.rp.LITE_Model` object takes the expression and accessibility topic models. You must also define a list of genes to model. To keep this short, I will demonstrate training with four genes, but in a full analysis, we recommend training models for *all highly-variable genes, plus all genes that scored in the top 5% most-activated for any topic*, which gives a good survey of interesting gene expression variation in your data. This following snippet gives you that genelist:"
   ]
  },
  {
   "cell_type": "code",
   "execution_count": null,
   "id": "a45ccfb0",
   "metadata": {},
   "outputs": [],
   "source": [
    "rp_genes = list(ds011_rna_model.features[ds011_rna_model.highly_variable])\n",
    "for topic in range(ds011_rna_model.num_topics):\n",
    "    rp_genes.extend(ds011_rna_model.get_top_genes(topic, 200))\n",
    "rp_genes = list(set([i.capitalize() for i in rp_genes]))\n",
    "print(rp_genes)"
   ]
  },
  {
   "cell_type": "code",
   "execution_count": null,
   "id": "391ff185",
   "metadata": {},
   "outputs": [],
   "source": [
    "litemodel = mira.rp.LITE_Model(expr_model = ds011_rna_model,\n",
    "                              accessibility_model=ds011_atac_model,\n",
    "                              genes = rp_genes[0:5]) # Just using the first 5 top genes"
   ]
  },
  {
   "cell_type": "markdown",
   "id": "60a7a50e",
   "metadata": {},
   "source": [
    "Now fit the models. Most LITE_model methods take the `n_workers` parameter, which parallelizes across cores. You can provide the `mira.rp.SaveCallback` to the `fit` function, which will save each model as it is trained. One must simply provide the prefix or directory where RP models are to be saved."
   ]
  },
  {
   "cell_type": "markdown",
   "id": "c170ce31",
   "metadata": {},
   "source": [
    "`litemodel.fit` will always use the `.X` attribute, but requires integer counts data. We need to set the `rna_adata.X` values back to the raw counts."
   ]
  },
  {
   "cell_type": "code",
   "execution_count": null,
   "id": "91c4ba1d",
   "metadata": {},
   "outputs": [],
   "source": [
    "rna_adata.X = rna_adata.layers[\"counts\"]\n",
    "rp_args = dict(expr_adata = rna_adata, atac_adata= atac_adata)\n",
    "rna_adata.X"
   ]
  },
  {
   "cell_type": "code",
   "execution_count": null,
   "id": "314616e6",
   "metadata": {},
   "outputs": [],
   "source": [
    "litemodel.fit(\n",
    "    **rp_args,\n",
    "    n_workers=4,\n",
    "    callback=mira.rp.SaveCallback('/gpfs/Home/esm5360/MIRA/data/ds011_rpmodels/')\n",
    ")"
   ]
  },
  {
   "cell_type": "markdown",
   "id": "686b9b67",
   "metadata": {},
   "source": [
    "To reload LITE models from disk, either instantiate the container object and use the load function with the file prefix given above:"
   ]
  },
  {
   "cell_type": "code",
   "execution_count": null,
   "id": "f66517d9",
   "metadata": {},
   "outputs": [],
   "source": [
    "litemodel = mira.rp.LITE_Model(expr_model = ds011_rna_model,\n",
    "                              accessibility_model=ds011_atac_model,\n",
    "                              genes = rp_genes[0:5])\n",
    "\n",
    "litemodel.load('/gpfs/Home/esm5360/MIRA/data/ds011_rpmodels/')"
   ]
  },
  {
   "cell_type": "markdown",
   "id": "09ff1f72",
   "metadata": {},
   "source": [
    "Or to skip having to provide the gene list, use `mira.rp.LITE_Model.load_dir`. This function will load every model in the given directory."
   ]
  },
  {
   "cell_type": "code",
   "execution_count": null,
   "id": "324abb0e",
   "metadata": {},
   "outputs": [],
   "source": [
    "litemodel = mira.rp.LITE_Model.load_dir(\n",
    "    expr_model = ds011_rna_model,\n",
    "    accessibility_model = ds011_atac_model,\n",
    "    prefix='/gpfs/Home/esm5360/MIRA/data/ds011_rpmodels/'\n",
    ")"
   ]
  },
  {
   "cell_type": "markdown",
   "id": "96ac1b7e",
   "metadata": {},
   "source": [
    "## Defining local chromatin neighborhoods\n",
    "\n",
    "If you are interested in the distance of estimated regulatory influence for a certain gene, you can index on the `litemodel` object with a gene name, then use the `parameters_` attribute (distance is decay rate in kilobases):"
   ]
  },
  {
   "cell_type": "code",
   "execution_count": null,
   "id": "5b55a27e",
   "metadata": {},
   "outputs": [],
   "source": [
    "first_gene = rp_genes[0]\n",
    "print(first_gene)\n",
    "litemodel[first_gene].parameters_"
   ]
  },
  {
   "cell_type": "markdown",
   "id": "ffb54df5",
   "metadata": {},
   "source": [
    "Or access the parameters of all models like so:"
   ]
  },
  {
   "cell_type": "code",
   "execution_count": null,
   "id": "006fd212",
   "metadata": {},
   "outputs": [],
   "source": [
    "TSS_dist_decay_df = pd.DataFrame(\n",
    "    litemodel.parameters_\n",
    ").T\n",
    "TSS_dist_decay_df"
   ]
  },
  {
   "cell_type": "markdown",
   "id": "fbf1e59c",
   "metadata": {},
   "source": [
    "Say one wanted a list of all peaks within the influence of Gpc6’s RP model. You can quickly access the peaks that make up a gene’s local cis-regulatory neighborhood using `get_influential_local_peaks`. This function takes the parameter `decay_periods`, which defines the distance covered by the gene’s chromatin neighborhood in terms of the `decay_periods` times the RP model’s upstream and downstream decay distances."
   ]
  },
  {
   "cell_type": "code",
   "execution_count": null,
   "id": "435d5751",
   "metadata": {},
   "outputs": [],
   "source": [
    "litemodel['Gpc6'].get_influential_local_peaks(atac_adata, decay_periods = 5.).head(5)\n"
   ]
  },
  {
   "cell_type": "markdown",
   "id": "625b86f3",
   "metadata": {},
   "source": [
    "You can also manually access TSS-peak distances via:"
   ]
  },
  {
   "cell_type": "code",
   "execution_count": null,
   "id": "36d25b17",
   "metadata": {},
   "outputs": [],
   "source": [
    "tss_distances = mira.utils.fetch_gene_TSS_distances(atac_adata)\n",
    "tss_distances"
   ]
  },
  {
   "cell_type": "markdown",
   "id": "2164d48d",
   "metadata": {},
   "source": [
    "In this matrix, peaks that are **upstream** of a gene have **negative** distances, while **downstream** have **positive**. All peaks that are outside of some range (by default 600 kilobases) are masked and have “zero” distance. if a peak begins exactly on the TSS of a gene, it is adjusted to be one base pair distant to avoid getting masked."
   ]
  },
  {
   "cell_type": "markdown",
   "id": "de499883",
   "metadata": {},
   "source": [
    "## Predicting expression from accessibility\n",
    "\n",
    "With trained RP models, the `predict` function calculates the maximum aposteriori prediction of expression given the accessibility state of each gene in each cell. Additionally, the model quantifies the likelihood of that prediction."
   ]
  },
  {
   "cell_type": "code",
   "execution_count": null,
   "id": "a76fd86c",
   "metadata": {},
   "outputs": [],
   "source": [
    "litemodel.predict(**rp_args)"
   ]
  },
  {
   "cell_type": "markdown",
   "id": "aef3138c",
   "metadata": {},
   "source": [
    "You can survey the goodness of fit by checking UMAPs. Compare the corresponsdance between accesibility and expression\n",
    "\n",
    "**LITE Model Predictions:**"
   ]
  },
  {
   "cell_type": "code",
   "execution_count": null,
   "id": "4fdbec71",
   "metadata": {},
   "outputs": [],
   "source": [
    "sc.pl.umap(rna_adata, color = litemodel.genes, frameon=False, color_map='viridis',\n",
    "          layer='LITE_prediction', ncols=3, vmin = 0, vmax = 'p97')"
   ]
  },
  {
   "cell_type": "markdown",
   "id": "36ecadad",
   "metadata": {},
   "source": [
    "**Gene Expression:**"
   ]
  },
  {
   "cell_type": "code",
   "execution_count": null,
   "id": "7f6c712e",
   "metadata": {},
   "outputs": [],
   "source": [
    "sc.pl.umap(rna_adata, color = litemodel.genes, **mira.pref.raw_umap(ncols=3, size = 20))"
   ]
  },
  {
   "cell_type": "markdown",
   "id": "d6f17e43",
   "metadata": {},
   "source": [
    "## Gene-TF targeting\n",
    "\n",
    "### With probabilistic in-silico deletion (pISD)\n",
    "\n",
    "RP models define a local chromatin neighborhood where changes in accessibility appear to influence gene expression. One may assume that transcription factor binding in many cis-regulatory elements within this neighborhood suggests the transcription factor regulates the gene of interest. MIRA can query for these types of interactions at a systems level, finding potential regulatory associations across many gene-TF pairs.\n",
    "\n",
    "The algorithm for calculating these associations is called probabilistic *in-silico* deletion (pISD), and it measures the ability of the RP model to predict expression of a gene before and after the regulatory elements predicted to bind a certain transcription factor are masked. In this way, pISD simulates a “computational knock out” of that factor.\n",
    "\n",
    "To compute association scores using each RP model against motif-based binding site predictions of all available transcription factors, use `litemodel.probabilistic_isd`:\n"
   ]
  },
  {
   "cell_type": "code",
   "execution_count": null,
   "id": "2da938f1",
   "metadata": {},
   "outputs": [],
   "source": [
    "litemodel.probabilistic_isd(**rp_args, n_workers = 4)"
   ]
  },
  {
   "cell_type": "markdown",
   "id": "634c5ad2",
   "metadata": {},
   "source": [
    "This test defines a matrix of association scores between gene-TF pairs. We can access this matrix directly with:"
   ]
  },
  {
   "cell_type": "code",
   "execution_count": null,
   "id": "2def40bf",
   "metadata": {},
   "outputs": [],
   "source": [
    "isd_matrix = mira.utils.fetch_ISD_matrix(rna_adata) # ISD results stored in RNA AnnData\n",
    "\n",
    "isd_matrix # genes are rows, TFs are columns"
   ]
  },
  {
   "cell_type": "markdown",
   "id": "13c469fb",
   "metadata": {},
   "source": [
    "Save the RNA AnnData object with the TF-TG scores along with the matrix of TF-TG scores"
   ]
  },
  {
   "cell_type": "code",
   "execution_count": null,
   "id": "5e919a3e",
   "metadata": {},
   "outputs": [],
   "source": [
    "rna_adata.write_h5ad(\"/gpfs/Home/esm5360/MIRA/mira-datasets/ds011_rna_data_tf_tg_scores.h5ad\")\n",
    "isd_matrix.to_csv(\"/gpfs/Home/esm5360/MIRA/mira-datasets/ds011_mira_tf_tg.tsv\", sep=\"\\t\", header=True, index=True)"
   ]
  },
  {
   "cell_type": "markdown",
   "id": "595d9ed8",
   "metadata": {},
   "source": [
    "### Querying with many genes\n",
    "One key limitation of the pISD algorithm is that binding site predictions are noisy - whether based on ChIP samples or especially as defined by motifs. Additionally, proximal binding predictions do not gaurantee mechanistic regulation. As such, testing one gene or one TF at a time is inadvisable.\n",
    "\n",
    "Querying for shared association with transcription factors across many co-regulated genes, however, produces results much more robust to the afforementioned sources of error. As part of the MIRA study, we computed association scores between 4000 genes and 555 TF motifs. Let’s load those results and test them against an interseting geneset."
   ]
  }
 ],
 "metadata": {
  "kernelspec": {
   "display_name": "Python (mira-env)",
   "language": "python",
   "name": "mira-env"
  },
  "language_info": {
   "codemirror_mode": {
    "name": "ipython",
    "version": 3
   },
   "file_extension": ".py",
   "mimetype": "text/x-python",
   "name": "python",
   "nbconvert_exporter": "python",
   "pygments_lexer": "ipython3",
   "version": "3.10.17"
  }
 },
 "nbformat": 4,
 "nbformat_minor": 5
}
