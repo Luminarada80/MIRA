{
 "cells": [
  {
   "cell_type": "markdown",
   "id": "47addf35",
   "metadata": {},
   "source": [
    "# MIRA Regulatory Potential Modeling"
   ]
  },
  {
   "cell_type": "code",
   "execution_count": null,
   "id": "8aa9a4f5",
   "metadata": {},
   "outputs": [],
   "source": [
    "import mira\n",
    "import scanpy as sc\n",
    "import anndata\n",
    "import warnings\n",
    "warnings.simplefilter(\"ignore\")\n",
    "import pandas as pd\n",
    "import matplotlib.pyplot as plt\n",
    "import matplotlib\n",
    "matplotlib.rc(\"font\", size = 12)"
   ]
  },
  {
   "cell_type": "code",
   "execution_count": null,
   "id": "2b54e235",
   "metadata": {},
   "outputs": [],
   "source": [
    "atac_adata = anndata.read_h5ad(\"/gpfs/Home/esm5360/MIRA/mira-datasets/ds011_atac_data.h5ad\")\n",
    "rna_adata = anndata.read_h5ad(\"/gpfs/Home/esm5360/MIRA/mira-datasets/ds011_rna_data.h5ad\")\n",
    "\n",
    "ds011_atac_model = mira.topics.load_model(\"/gpfs/Home/esm5360/MIRA/mira-datasets/ds011_atac_model.pth\")\n",
    "ds011_rna_model = mira.topics.load_model(\"/gpfs/Home/esm5360/MIRA/mira-datasets/ds011_rna_model.pth\")"
   ]
  },
  {
   "cell_type": "markdown",
   "id": "390cd6cf",
   "metadata": {},
   "source": [
    "We must annotate the genes in the dataset with TSS locations. MIRA provides hg38 and mm10 chromosome size and TSS data, but you can also use your own if you want. The format is a bit different for the TSS data than the one that I have been using"
   ]
  },
  {
   "cell_type": "code",
   "execution_count": null,
   "id": "cb4be5f5",
   "metadata": {},
   "outputs": [],
   "source": [
    "mira.datasets.mm10_chrom_sizes()\n",
    "mira.datasets.mm10_tss_data()"
   ]
  },
  {
   "cell_type": "code",
   "execution_count": null,
   "id": "68fc5b48",
   "metadata": {},
   "outputs": [],
   "source": [
    "mira.datasets.ShareseqTopicModels()\n",
    "mira.datasets.ShareseqAnnotatedData()\n",
    "\n",
    "rna_data = anndata.read_h5ad('mira-datasets/shareseq_annotated_data/rna_data.joint_representation.rp_modeled.h5ad')\n",
    "atac_data = anndata.read_h5ad('mira-datasets/shareseq_annotated_data/atac_data.joint_representation.motif_calls.tss_annotated.h5ad')\n",
    "\n",
    "rna_model = mira.topics.load_model('mira-datasets/shareseq_topic_models/rna_model.pth')\n",
    "atac_model = mira.topics.load_model('mira-datasets/shareseq_topic_models/atac_model.pth')"
   ]
  },
  {
   "cell_type": "code",
   "execution_count": null,
   "id": "e6a639e6",
   "metadata": {},
   "outputs": [],
   "source": [
    "atac_data"
   ]
  },
  {
   "cell_type": "code",
   "execution_count": null,
   "id": "e36d09d7",
   "metadata": {},
   "outputs": [],
   "source": [
    "atac_adata"
   ]
  },
  {
   "cell_type": "code",
   "execution_count": null,
   "id": "b9e93c27",
   "metadata": {},
   "outputs": [],
   "source": [
    "mira.tl.get_distance_to_TSS(atac_adata,\n",
    "                            tss_data='mira-datasets/mm10_tss_data.bed12',\n",
    "                            genome_file='mira-datasets/mm10.chrom.sizes')"
   ]
  }
 ],
 "metadata": {
  "kernelspec": {
   "display_name": "Python (mira-env)",
   "language": "python",
   "name": "mira-env"
  }
 },
 "nbformat": 4,
 "nbformat_minor": 5
}
