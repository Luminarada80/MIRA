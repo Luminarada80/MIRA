{
 "cells": [
  {
   "cell_type": "markdown",
   "id": "082c475e",
   "metadata": {},
   "source": [
    "# MIRA Topic Analysis\n",
    "\n",
    "With trained topic models and a Joint-KNN representation of the data, we can analyze the topics to understand the regulatory dynamics present within a sample. Expression topics may be analyzed with functional enrichments of the top genes activated in a given topic/module. Accessibility topics correspond to a set of coordinated cis-regulatory elements, and may be analyzed to find emergent transcription factor regulators of particular cell states.\n",
    "\n",
    "This tutorial will cover predicting factor binding and analyzing topic modules in both modes. First, we import packages:"
   ]
  },
  {
   "cell_type": "code",
   "execution_count": null,
   "id": "b9ca2a23",
   "metadata": {},
   "outputs": [],
   "source": [
    "!hostnamectl"
   ]
  },
  {
   "cell_type": "code",
   "execution_count": null,
   "id": "99b3e89e",
   "metadata": {},
   "outputs": [],
   "source": [
    "import mira\n",
    "import anndata\n",
    "import scanpy as sc\n",
    "import pandas as pd\n",
    "import numpy as np\n",
    "import matplotlib\n",
    "import math\n",
    "import matplotlib.pyplot as plt\n",
    "matplotlib.rc('font',size=12)\n",
    "import logging\n",
    "import warnings\n",
    "warnings.simplefilter(\"ignore\")\n",
    "mira.utils.pretty_sderr()"
   ]
  },
  {
   "cell_type": "markdown",
   "id": "a64d48d3",
   "metadata": {},
   "source": [
    "Next, we need to load our datasets and models from the joint representation step."
   ]
  },
  {
   "cell_type": "code",
   "execution_count": null,
   "id": "1d20ae0e",
   "metadata": {},
   "outputs": [],
   "source": [
    "rna_adata = anndata.read_h5ad(\"/gpfs/Home/esm5360/MIRA/mira-datasets/ds011_rna_data_joint_representation.h5ad\")\n",
    "atac_adata = anndata.read_h5ad(\"/gpfs/Home/esm5360/MIRA/mira-datasets/ds011_atac_data_joint_representation.h5ad\")\n",
    "\n",
    "rna_model = mira.topics.load_model(\"/gpfs/Home/esm5360/MIRA/mira-datasets/ds011_rna_model.pth\")\n",
    "atac_model = mira.topics.load_model(\"/gpfs/Home/esm5360/MIRA/mira-datasets/ds011_atac_model.pth\")"
   ]
  },
  {
   "cell_type": "markdown",
   "id": "549ccb62",
   "metadata": {},
   "source": [
    "We pick up from the previous tutorial, making the joint representation, in which we constructed a UMAP view of the data. We can visualize the flow of topics to visualize cellular heterogeneity or differentiation:"
   ]
  },
  {
   "cell_type": "code",
   "execution_count": null,
   "id": "84f9b99b",
   "metadata": {},
   "outputs": [],
   "source": [
    "rna_adata"
   ]
  },
  {
   "cell_type": "code",
   "execution_count": null,
   "id": "32636b5d",
   "metadata": {},
   "outputs": [],
   "source": [
    "topics = [i for i in rna_adata.obs if \"topic\" in i and not \"ATAC\" in i]\n",
    "sc.pl.umap(rna_adata, color  = topics, frameon=False, ncols=5,\n",
    "          color_map = 'magma')"
   ]
  },
  {
   "cell_type": "markdown",
   "id": "c04b979c",
   "metadata": {},
   "source": [
    "## Expression Topic Analysis\n",
    "\n",
    "We can plot expression patterns of genes that are activated by these topics. To get the top genes associated with a topic:"
   ]
  },
  {
   "cell_type": "code",
   "execution_count": null,
   "id": "569ff5ed",
   "metadata": {},
   "outputs": [],
   "source": [
    "rna_model.get_top_genes(6, top_n=2)\n",
    "rna_model.get_top_genes(9, top_n=2)"
   ]
  },
  {
   "cell_type": "markdown",
   "id": "ca3fe92a",
   "metadata": {},
   "source": [
    "And plotting:"
   ]
  },
  {
   "cell_type": "code",
   "execution_count": null,
   "id": "314852bb",
   "metadata": {},
   "outputs": [],
   "source": [
    "sc.pl.umap(rna_adata, color = rna_model.get_top_genes(6, top_n=2), **mira.pref.raw_umap(ncols=3, size=24))"
   ]
  },
  {
   "cell_type": "markdown",
   "id": "e522e204",
   "metadata": {},
   "source": [
    "Above, the `mira.pref.raw_umap` function simply provides default values to the Scanpy plotting function to make easily readable plots for normalized expression values.\n",
    "\n",
    "Let’s see what functional enrichments represent these topics. MIRA uses Enrichr to get functional enrichments for each topic by posting the `top_n` genes associated with a topic to their API. You can change the number of genes sent, or output genes sorted in order of activation by the topic for rank-based functional enrichments (like GSEApy).\n",
    "\n",
    "To post a topic’s top genes to Enrichr, use `post_topic`, or use `post_topics` to post all topics’ lists at once.\n",
    "\n",
    "**Note**: A good rule of thumb for setting `top_n` genes is to take the top 5% of genes modeled by the expression topic model."
   ]
  },
  {
   "cell_type": "code",
   "execution_count": null,
   "id": "8c6af2fe",
   "metadata": {},
   "outputs": [],
   "source": [
    "num_genes = rna_adata.X.shape[0]\n",
    "top_n_genes = math.ceil(num_genes * 0.05)\n",
    "print(top_n_genes)\n",
    "\n",
    "rna_model.post_topic(6, top_n=top_n_genes)\n",
    "rna_model.post_topic(9, top_n=top_n_genes)"
   ]
  },
  {
   "cell_type": "markdown",
   "id": "3dec90d2",
   "metadata": {},
   "source": [
    "To retreive a sorted list of genes (least activated to most activated) for GSEA, use:"
   ]
  },
  {
   "cell_type": "code",
   "execution_count": null,
   "id": "9b34d854",
   "metadata": {},
   "outputs": [],
   "source": [
    "rna_model.rank_genes(6)"
   ]
  },
  {
   "cell_type": "markdown",
   "id": "aa919f78",
   "metadata": {},
   "source": [
    "To download the enrichment results, run `fetch_topic_enrichments`, or similarly run `fetch_enrichments` to download results for all topics. Here, you may provide list of onotologies to compare against. The ontologies available on Enrichr may be found here."
   ]
  },
  {
   "cell_type": "code",
   "execution_count": null,
   "id": "c9a9e5be",
   "metadata": {},
   "outputs": [],
   "source": [
    "rna_model.fetch_topic_enrichments(6, ontologies= ['WikiPathways_2019_Mouse'])\n",
    "rna_model.fetch_topic_enrichments(9, ontologies= ['WikiPathways_2019_Mouse'])"
   ]
  },
  {
   "cell_type": "markdown",
   "id": "c17018e1",
   "metadata": {},
   "source": [
    "To analyze enrichments, you can use:"
   ]
  },
  {
   "cell_type": "code",
   "execution_count": null,
   "id": "082f3527",
   "metadata": {},
   "outputs": [],
   "source": [
    "rna_model.plot_enrichments(6, show_top=5)"
   ]
  },
  {
   "cell_type": "markdown",
   "id": "7c5364c3",
   "metadata": {},
   "source": [
    "You can compare enrichments against a pre-compiled list of genes-of-interest, for example, a list of transcription factors, using the `label_genes` parameter. If genes in this list appear in the enrichment plot, they are labeled with a *."
   ]
  },
  {
   "cell_type": "code",
   "execution_count": null,
   "id": "23f742f0",
   "metadata": {},
   "outputs": [],
   "source": [
    "rna_model.plot_enrichments(9, show_top=5, plots_per_row=1,\n",
    "                           label_genes=['CDK1','PIGF'])"
   ]
  },
  {
   "cell_type": "markdown",
   "id": "c8666411",
   "metadata": {},
   "source": [
    "For a full list of parameters, see `plot_enrichments`. You can also access the enrichment data using `get_enrichments`:"
   ]
  },
  {
   "cell_type": "code",
   "execution_count": null,
   "id": "38e27da7",
   "metadata": {},
   "outputs": [],
   "source": [
    "pd.DataFrame(\n",
    "    rna_model.get_enrichments(9)['WikiPathways_2019_Mouse']\n",
    ").head(3)"
   ]
  },
  {
   "cell_type": "code",
   "execution_count": null,
   "id": "f4d1dee3",
   "metadata": {},
   "outputs": [],
   "source": [
    "rna_adata"
   ]
  },
  {
   "cell_type": "markdown",
   "id": "2ff53c07",
   "metadata": {},
   "source": [
    "## Accessibility Topic Analysis\n",
    "\n",
    "Next, we will find transcription factor enrichments in accessibility topics. First, visualize the cell states represented by some topics:"
   ]
  },
  {
   "cell_type": "code",
   "execution_count": null,
   "id": "2e9efb8f",
   "metadata": {},
   "outputs": [],
   "source": [
    "topics = [i for i in rna_adata.obs if \"ATAC_topic\" in i]\n",
    "sc.pl.umap(rna_adata, color = topics, frameon=False, palette='viridis', ncols=6)"
   ]
  },
  {
   "cell_type": "markdown",
   "id": "80038e18",
   "metadata": {},
   "source": [
    "ATAC topics 0 and 7 have very different associations. It would be interesting to compare and contrast transcription factors influential in these cell states.\n",
    "\n",
    "First, we must annotate transcription factor binding sites in our peaks using motif scanning. For this, we need the fasta sequence of the organism’s genome. Sequences may be downloaded from the UCSC repository."
   ]
  },
  {
   "cell_type": "code",
   "execution_count": null,
   "id": "2a860f05",
   "metadata": {},
   "outputs": [],
   "source": [
    "!mkdir -p data\n",
    "!wget https://hgdownload.soe.ucsc.edu/goldenPath/mm10/bigZips/mm10.fa.gz -O /gpfs/Home/esm5360/MIRA/data/mm10.fa.gz\n",
    "!cd data/ && gzip -d -f mm10.fa.gz"
   ]
  },
  {
   "cell_type": "markdown",
   "id": "e645e378",
   "metadata": {},
   "source": [
    "We must also ensure that we indicate the correct columns in the ATAC AnnData object corresponding to the chromosome, start, and end locations of each peak."
   ]
  },
  {
   "cell_type": "code",
   "execution_count": null,
   "id": "f89a3aac",
   "metadata": {},
   "outputs": [],
   "source": [
    "atac_adata = anndata.read_h5ad(\"/gpfs/Home/esm5360/MIRA/mira-datasets/ds011_atac_data_joint_representation.h5ad\")"
   ]
  },
  {
   "cell_type": "markdown",
   "id": "627756d4",
   "metadata": {},
   "source": [
    "`atac_adata.var` needs to have `peak_id`, `chr`, `start`, and `end` columns corresponding to the peak locations for motif scanning"
   ]
  },
  {
   "cell_type": "code",
   "execution_count": null,
   "id": "a61cad11",
   "metadata": {},
   "outputs": [],
   "source": [
    "peak_locations = atac_adata.var.index\n",
    "\n",
    "if not any([\"chr\", \"start\", \"end\"]) in peak_locations:\n",
    "    peak_data = {\n",
    "        \"peak_id\": [],\n",
    "        \"chr\": [],\n",
    "        \"start\": [],\n",
    "        \"end\": []\n",
    "    }\n",
    "    for i, peak in enumerate(peak_locations):\n",
    "        peak_id = i\n",
    "        chr_num = peak.split(\":\")[0]\n",
    "        peak_start = int(peak.split(\":\")[1].split(\"-\")[0])\n",
    "        peak_end = int(peak.split(\":\")[1].split(\"-\")[1])\n",
    "        \n",
    "        peak_data[\"peak_id\"].append(peak_id)\n",
    "        peak_data[\"chr\"].append(chr_num)\n",
    "        peak_data[\"start\"].append(peak_start)\n",
    "        peak_data[\"end\"].append(peak_end)\n",
    "        \n",
    "    peak_df = pd.DataFrame(peak_data, index=peak_locations)\n",
    "    atac_adata.var = pd.concat([atac_adata.var, peak_df], axis=1)"
   ]
  },
  {
   "cell_type": "code",
   "execution_count": null,
   "id": "18a42005",
   "metadata": {},
   "outputs": [],
   "source": [
    "atac_adata.var"
   ]
  },
  {
   "cell_type": "markdown",
   "id": "bb92a969",
   "metadata": {},
   "source": [
    "Now, use the function `mira.tl.get_motif_hits_in_peaks`, which will scan the sequence of each peak against the JASPAR 2020 vertabrates collection of motifs. Facilities for scanning user-defined motifs and other motif databases will be added in the future.\n",
    "\n",
    "I ran into an issue where `moods-dna.py` was installed in the environment but not in the `PATH`. The below code fixed it:"
   ]
  },
  {
   "cell_type": "code",
   "execution_count": null,
   "id": "7a5087c6",
   "metadata": {},
   "outputs": [],
   "source": [
    "import os\n",
    "\n",
    "os.environ[\"PATH\"] = os.pathsep.join([\n",
    "    os.path.expanduser(\"~/miniconda3/envs/mira-env/bin\"),\n",
    "    os.environ[\"PATH\"]\n",
    "])\n"
   ]
  },
  {
   "cell_type": "code",
   "execution_count": null,
   "id": "78b700b4",
   "metadata": {},
   "outputs": [],
   "source": [
    "atac_adata"
   ]
  },
  {
   "cell_type": "code",
   "execution_count": null,
   "id": "ed2601cf",
   "metadata": {},
   "outputs": [],
   "source": [
    "atac_adata.write_h5ad(\"/gpfs/Home/esm5360/MIRA/mira-datasets/ds011_atac_data_joint_representation_peak_format.h5ad\")"
   ]
  },
  {
   "cell_type": "code",
   "execution_count": null,
   "id": "543be244",
   "metadata": {},
   "outputs": [],
   "source": [
    "mira.tools.motif_scan.logger.setLevel(logging.INFO) # make sure progress messages are displayed\n",
    "mira.tl.get_motif_hits_in_peaks(atac_adata,\n",
    "                    genome_fasta='/gpfs/Home/esm5360/MIRA/data/mm10.fa',\n",
    "                    chrom = 'chr', start = 'start', end = 'end',\n",
    "                    pvalue_threshold=1e-4\n",
    "                    ) # indicate chrom, start, end of peaks"
   ]
  },
  {
   "cell_type": "markdown",
   "id": "62b2bbe0",
   "metadata": {},
   "source": [
    "The function above loads the motif hits into a (n_factors x n_peaks) sparse matrix in `.varm['motif_hits']`, where values are the MOODS3 “Match Score” given a motif PWM and the peak’s sequence. All matches that do not meet the p-value threshold were filtered.\n",
    "\n",
    "The metadata on the motifs scanned are stored in `.uns['motifs']`, and can be accessed by `mira.utils.fetch_factor_meta`."
   ]
  },
  {
   "cell_type": "code",
   "execution_count": null,
   "id": "90a402e7",
   "metadata": {},
   "outputs": [],
   "source": [
    "mira.utils.fetch_factor_meta(atac_adata)"
   ]
  },
  {
   "cell_type": "markdown",
   "id": "e4d126c4",
   "metadata": {},
   "source": [
    "Motif calling often includes many factors that may be irrelevant to the current system. Usually, it is convenient to filter out TFs for which we do not have expression data. Below, we use `mira.utils.subset_factors` to filter out TFs that do not have any associated data in the rna_data object (in addition to AP1 since these motifs clog up the plots we’re about to make).\n",
    "\n",
    "**Important: Do not filter out TFs on the basis of mean expression or dispersion, as many TFs can influence cell state without being variably expressed.**\n",
    "\n",
    "This function marks certain factors as not to be used, but does not remove them from the AnnData. This way, you can use a different filter or include different factors in your analysis without re-calling motifs."
   ]
  },
  {
   "cell_type": "code",
   "execution_count": null,
   "id": "d87f815f",
   "metadata": {},
   "outputs": [],
   "source": [
    "mira.utils.subset_factors(atac_adata,\n",
    "                          use_factors=[factor.upper() for factor in rna_adata.var_names\n",
    "                                       if not ('FOS' in factor or 'JUN' in factor)])"
   ]
  },
  {
   "cell_type": "markdown",
   "id": "b98ee4d1",
   "metadata": {},
   "source": [
    "With motifs called and a trained topic model, we find which motifs are enriched in each topic:"
   ]
  },
  {
   "cell_type": "code",
   "execution_count": null,
   "id": "61e2e094",
   "metadata": {},
   "outputs": [],
   "source": [
    "atac_model.get_enriched_TFs(atac_adata, topic_num=3, top_quantile=0.1)\n",
    "atac_model.get_enriched_TFs(atac_adata, topic_num=9, top_quantile=0.1)"
   ]
  },
  {
   "cell_type": "markdown",
   "id": "019d563c",
   "metadata": {},
   "source": [
    "The parameter of the function above, `top_quantile`, controls what quantile of peaks are taken to represent the topic. Values between 0.1 and 0.2, so the top 10% to 20% peaks, work best. If a certain topic is enriching for non-specific factors, decrease the quantile used to take more topic-specific peaks.\n",
    "\n",
    "You can retrieve enrichment results using `get_enrichments`. Note, this list is not sorted:"
   ]
  },
  {
   "cell_type": "code",
   "execution_count": null,
   "id": "56ae271c",
   "metadata": {},
   "outputs": [],
   "source": [
    "pd.DataFrame(atac_model.get_enrichments(9)).head(3)"
   ]
  },
  {
   "cell_type": "markdown",
   "id": "79005e07",
   "metadata": {},
   "source": [
    "Comparing and contrasting TF enrichments between topics elucidates common and topic-specific regulators. For this, you can use `plot_compare_topic_enrichments`, which plots the -log10 p-value of TF enrichment for one topic vs. another."
   ]
  },
  {
   "cell_type": "code",
   "execution_count": null,
   "id": "7c788a8f",
   "metadata": {},
   "outputs": [],
   "source": [
    "atac_model.plot_compare_topic_enrichments(3, 9,\n",
    "            fontsize=10, label_closeness=3, figsize=(6,6),\n",
    "        )"
   ]
  },
  {
   "cell_type": "markdown",
   "id": "cb5109f0",
   "metadata": {},
   "source": [
    "You can color the TFs on the plot to help narrow down import TFs. We could color by expression levels in our cell types of interest:"
   ]
  },
  {
   "cell_type": "code",
   "execution_count": null,
   "id": "0872d999",
   "metadata": {},
   "outputs": [],
   "source": [
    "total_expression_in_cells = np.log10(\n",
    "    np.squeeze(np.array(rna_adata.X.sum(0))) + 1\n",
    ")\n",
    "\n",
    "atac_model.plot_compare_topic_enrichments(23, 17,\n",
    "            hue = {factor : disp  for factor, disp in zip(rna_adata.var_names, total_expression_in_cells)},\n",
    "            palette = 'coolwarm', legend_label='Expression',\n",
    "            fontsize=10, label_closeness=3, figsize=(6,6)\n",
    "        )"
   ]
  }
 ],
 "metadata": {
  "kernelspec": {
   "display_name": "Python (mira-env)",
   "language": "python",
   "name": "mira-env"
  },
  "language_info": {
   "codemirror_mode": {
    "name": "ipython",
    "version": 3
   },
   "file_extension": ".py",
   "mimetype": "text/x-python",
   "name": "python",
   "nbconvert_exporter": "python",
   "pygments_lexer": "ipython3",
   "version": "3.10.17"
  }
 },
 "nbformat": 4,
 "nbformat_minor": 5
}
